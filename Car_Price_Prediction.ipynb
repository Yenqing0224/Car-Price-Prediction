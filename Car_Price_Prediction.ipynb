{
  "nbformat": 4,
  "nbformat_minor": 0,
  "metadata": {
    "colab": {
      "provenance": []
    },
    "kernelspec": {
      "name": "python3",
      "display_name": "Python 3"
    },
    "language_info": {
      "name": "python"
    }
  },
  "cells": [
    {
      "cell_type": "code",
      "execution_count": 1,
      "metadata": {
        "colab": {
          "base_uri": "https://localhost:8080/",
          "height": 73
        },
        "id": "GJxVr553TNob",
        "outputId": "9dc1643a-5ae9-44bd-82d8-0f128fef4d9b"
      },
      "outputs": [
        {
          "output_type": "display_data",
          "data": {
            "text/plain": [
              "<IPython.core.display.HTML object>"
            ],
            "text/html": [
              "\n",
              "     <input type=\"file\" id=\"files-8d607cd0-fca2-4b0b-a94f-7d17170a9cfe\" name=\"files[]\" multiple disabled\n",
              "        style=\"border:none\" />\n",
              "     <output id=\"result-8d607cd0-fca2-4b0b-a94f-7d17170a9cfe\">\n",
              "      Upload widget is only available when the cell has been executed in the\n",
              "      current browser session. Please rerun this cell to enable.\n",
              "      </output>\n",
              "      <script>// Copyright 2017 Google LLC\n",
              "//\n",
              "// Licensed under the Apache License, Version 2.0 (the \"License\");\n",
              "// you may not use this file except in compliance with the License.\n",
              "// You may obtain a copy of the License at\n",
              "//\n",
              "//      http://www.apache.org/licenses/LICENSE-2.0\n",
              "//\n",
              "// Unless required by applicable law or agreed to in writing, software\n",
              "// distributed under the License is distributed on an \"AS IS\" BASIS,\n",
              "// WITHOUT WARRANTIES OR CONDITIONS OF ANY KIND, either express or implied.\n",
              "// See the License for the specific language governing permissions and\n",
              "// limitations under the License.\n",
              "\n",
              "/**\n",
              " * @fileoverview Helpers for google.colab Python module.\n",
              " */\n",
              "(function(scope) {\n",
              "function span(text, styleAttributes = {}) {\n",
              "  const element = document.createElement('span');\n",
              "  element.textContent = text;\n",
              "  for (const key of Object.keys(styleAttributes)) {\n",
              "    element.style[key] = styleAttributes[key];\n",
              "  }\n",
              "  return element;\n",
              "}\n",
              "\n",
              "// Max number of bytes which will be uploaded at a time.\n",
              "const MAX_PAYLOAD_SIZE = 100 * 1024;\n",
              "\n",
              "function _uploadFiles(inputId, outputId) {\n",
              "  const steps = uploadFilesStep(inputId, outputId);\n",
              "  const outputElement = document.getElementById(outputId);\n",
              "  // Cache steps on the outputElement to make it available for the next call\n",
              "  // to uploadFilesContinue from Python.\n",
              "  outputElement.steps = steps;\n",
              "\n",
              "  return _uploadFilesContinue(outputId);\n",
              "}\n",
              "\n",
              "// This is roughly an async generator (not supported in the browser yet),\n",
              "// where there are multiple asynchronous steps and the Python side is going\n",
              "// to poll for completion of each step.\n",
              "// This uses a Promise to block the python side on completion of each step,\n",
              "// then passes the result of the previous step as the input to the next step.\n",
              "function _uploadFilesContinue(outputId) {\n",
              "  const outputElement = document.getElementById(outputId);\n",
              "  const steps = outputElement.steps;\n",
              "\n",
              "  const next = steps.next(outputElement.lastPromiseValue);\n",
              "  return Promise.resolve(next.value.promise).then((value) => {\n",
              "    // Cache the last promise value to make it available to the next\n",
              "    // step of the generator.\n",
              "    outputElement.lastPromiseValue = value;\n",
              "    return next.value.response;\n",
              "  });\n",
              "}\n",
              "\n",
              "/**\n",
              " * Generator function which is called between each async step of the upload\n",
              " * process.\n",
              " * @param {string} inputId Element ID of the input file picker element.\n",
              " * @param {string} outputId Element ID of the output display.\n",
              " * @return {!Iterable<!Object>} Iterable of next steps.\n",
              " */\n",
              "function* uploadFilesStep(inputId, outputId) {\n",
              "  const inputElement = document.getElementById(inputId);\n",
              "  inputElement.disabled = false;\n",
              "\n",
              "  const outputElement = document.getElementById(outputId);\n",
              "  outputElement.innerHTML = '';\n",
              "\n",
              "  const pickedPromise = new Promise((resolve) => {\n",
              "    inputElement.addEventListener('change', (e) => {\n",
              "      resolve(e.target.files);\n",
              "    });\n",
              "  });\n",
              "\n",
              "  const cancel = document.createElement('button');\n",
              "  inputElement.parentElement.appendChild(cancel);\n",
              "  cancel.textContent = 'Cancel upload';\n",
              "  const cancelPromise = new Promise((resolve) => {\n",
              "    cancel.onclick = () => {\n",
              "      resolve(null);\n",
              "    };\n",
              "  });\n",
              "\n",
              "  // Wait for the user to pick the files.\n",
              "  const files = yield {\n",
              "    promise: Promise.race([pickedPromise, cancelPromise]),\n",
              "    response: {\n",
              "      action: 'starting',\n",
              "    }\n",
              "  };\n",
              "\n",
              "  cancel.remove();\n",
              "\n",
              "  // Disable the input element since further picks are not allowed.\n",
              "  inputElement.disabled = true;\n",
              "\n",
              "  if (!files) {\n",
              "    return {\n",
              "      response: {\n",
              "        action: 'complete',\n",
              "      }\n",
              "    };\n",
              "  }\n",
              "\n",
              "  for (const file of files) {\n",
              "    const li = document.createElement('li');\n",
              "    li.append(span(file.name, {fontWeight: 'bold'}));\n",
              "    li.append(span(\n",
              "        `(${file.type || 'n/a'}) - ${file.size} bytes, ` +\n",
              "        `last modified: ${\n",
              "            file.lastModifiedDate ? file.lastModifiedDate.toLocaleDateString() :\n",
              "                                    'n/a'} - `));\n",
              "    const percent = span('0% done');\n",
              "    li.appendChild(percent);\n",
              "\n",
              "    outputElement.appendChild(li);\n",
              "\n",
              "    const fileDataPromise = new Promise((resolve) => {\n",
              "      const reader = new FileReader();\n",
              "      reader.onload = (e) => {\n",
              "        resolve(e.target.result);\n",
              "      };\n",
              "      reader.readAsArrayBuffer(file);\n",
              "    });\n",
              "    // Wait for the data to be ready.\n",
              "    let fileData = yield {\n",
              "      promise: fileDataPromise,\n",
              "      response: {\n",
              "        action: 'continue',\n",
              "      }\n",
              "    };\n",
              "\n",
              "    // Use a chunked sending to avoid message size limits. See b/62115660.\n",
              "    let position = 0;\n",
              "    do {\n",
              "      const length = Math.min(fileData.byteLength - position, MAX_PAYLOAD_SIZE);\n",
              "      const chunk = new Uint8Array(fileData, position, length);\n",
              "      position += length;\n",
              "\n",
              "      const base64 = btoa(String.fromCharCode.apply(null, chunk));\n",
              "      yield {\n",
              "        response: {\n",
              "          action: 'append',\n",
              "          file: file.name,\n",
              "          data: base64,\n",
              "        },\n",
              "      };\n",
              "\n",
              "      let percentDone = fileData.byteLength === 0 ?\n",
              "          100 :\n",
              "          Math.round((position / fileData.byteLength) * 100);\n",
              "      percent.textContent = `${percentDone}% done`;\n",
              "\n",
              "    } while (position < fileData.byteLength);\n",
              "  }\n",
              "\n",
              "  // All done.\n",
              "  yield {\n",
              "    response: {\n",
              "      action: 'complete',\n",
              "    }\n",
              "  };\n",
              "}\n",
              "\n",
              "scope.google = scope.google || {};\n",
              "scope.google.colab = scope.google.colab || {};\n",
              "scope.google.colab._files = {\n",
              "  _uploadFiles,\n",
              "  _uploadFilesContinue,\n",
              "};\n",
              "})(self);\n",
              "</script> "
            ]
          },
          "metadata": {}
        },
        {
          "output_type": "stream",
          "name": "stdout",
          "text": [
            "Saving cardekho.csv to cardekho.csv\n"
          ]
        }
      ],
      "source": [
        "# Upload Dataset\n",
        "from google.colab import files\n",
        "uploaded = files.upload()"
      ]
    },
    {
      "cell_type": "code",
      "source": [
        "# Import library\n",
        "import pandas as pd\n",
        "import matplotlib.pyplot as plt\n",
        "import numpy as np\n",
        "import seaborn as sns\n",
        "from sklearn.model_selection import train_test_split\n",
        "from sklearn.impute import SimpleImputer"
      ],
      "metadata": {
        "id": "8Klt7o0cT8xm"
      },
      "execution_count": 19,
      "outputs": []
    },
    {
      "cell_type": "code",
      "source": [
        "df = pd.read_csv(\"cardekho.csv\")\n",
        "print(df.info())\n",
        "print(df.isnull().sum())"
      ],
      "metadata": {
        "colab": {
          "base_uri": "https://localhost:8080/"
        },
        "id": "bU5NQUl1UV_m",
        "outputId": "72c0e1e5-eeb6-400e-b6d0-b41cceecf19e"
      },
      "execution_count": 30,
      "outputs": [
        {
          "output_type": "stream",
          "name": "stdout",
          "text": [
            "<class 'pandas.core.frame.DataFrame'>\n",
            "RangeIndex: 8128 entries, 0 to 8127\n",
            "Data columns (total 12 columns):\n",
            " #   Column              Non-Null Count  Dtype  \n",
            "---  ------              --------------  -----  \n",
            " 0   name                8128 non-null   object \n",
            " 1   year                8128 non-null   int64  \n",
            " 2   selling_price       8128 non-null   int64  \n",
            " 3   km_driven           8128 non-null   int64  \n",
            " 4   fuel                8128 non-null   object \n",
            " 5   seller_type         8128 non-null   object \n",
            " 6   transmission        8128 non-null   object \n",
            " 7   owner               8128 non-null   object \n",
            " 8   mileage(km/ltr/kg)  7907 non-null   float64\n",
            " 9   engine              7907 non-null   float64\n",
            " 10  max_power           7913 non-null   object \n",
            " 11  seats               7907 non-null   float64\n",
            "dtypes: float64(3), int64(3), object(6)\n",
            "memory usage: 762.1+ KB\n",
            "None\n",
            "name                    0\n",
            "year                    0\n",
            "selling_price           0\n",
            "km_driven               0\n",
            "fuel                    0\n",
            "seller_type             0\n",
            "transmission            0\n",
            "owner                   0\n",
            "mileage(km/ltr/kg)    221\n",
            "engine                221\n",
            "max_power             215\n",
            "seats                 221\n",
            "dtype: int64\n"
          ]
        }
      ]
    },
    {
      "cell_type": "code",
      "source": [
        "print(df)"
      ],
      "metadata": {
        "colab": {
          "base_uri": "https://localhost:8080/"
        },
        "id": "yyrWnWJAgDIp",
        "outputId": "fb003d0d-c4af-43f6-d575-18b701f598ce"
      },
      "execution_count": 31,
      "outputs": [
        {
          "output_type": "stream",
          "name": "stdout",
          "text": [
            "                              name  year  ...  max_power  seats\n",
            "0           Maruti Swift Dzire VDI  2014  ...         74    5.0\n",
            "1     Skoda Rapid 1.5 TDI Ambition  2014  ...     103.52    5.0\n",
            "2         Honda City 2017-2020 EXi  2006  ...         78    5.0\n",
            "3        Hyundai i20 Sportz Diesel  2010  ...         90    5.0\n",
            "4           Maruti Swift VXI BSIII  2007  ...       88.2    5.0\n",
            "...                            ...   ...  ...        ...    ...\n",
            "8123             Hyundai i20 Magna  2013  ...      82.85    5.0\n",
            "8124         Hyundai Verna CRDi SX  2007  ...        110    5.0\n",
            "8125        Maruti Swift Dzire ZDi  2009  ...       73.9    5.0\n",
            "8126               Tata Indigo CR4  2013  ...         70    5.0\n",
            "8127               Tata Indigo CR4  2013  ...         70    5.0\n",
            "\n",
            "[8128 rows x 12 columns]\n"
          ]
        }
      ]
    },
    {
      "cell_type": "code",
      "source": [
        "print(df.describe())"
      ],
      "metadata": {
        "colab": {
          "base_uri": "https://localhost:8080/"
        },
        "id": "Hb1Kv-yncHP6",
        "outputId": "68507c53-e036-4436-de85-7810996bd3f9"
      },
      "execution_count": 32,
      "outputs": [
        {
          "output_type": "stream",
          "name": "stdout",
          "text": [
            "              year  selling_price  ...       engine        seats\n",
            "count  8128.000000   8.128000e+03  ...  7907.000000  7907.000000\n",
            "mean   2013.804011   6.382718e+05  ...  1458.625016     5.416719\n",
            "std       4.044249   8.062534e+05  ...   503.916303     0.959588\n",
            "min    1983.000000   2.999900e+04  ...   624.000000     2.000000\n",
            "25%    2011.000000   2.549990e+05  ...  1197.000000     5.000000\n",
            "50%    2015.000000   4.500000e+05  ...  1248.000000     5.000000\n",
            "75%    2017.000000   6.750000e+05  ...  1582.000000     5.000000\n",
            "max    2020.000000   1.000000e+07  ...  3604.000000    14.000000\n",
            "\n",
            "[8 rows x 6 columns]\n"
          ]
        }
      ]
    },
    {
      "cell_type": "code",
      "source": [
        "df['max_power'] = pd.to_numeric(df['max_power'], errors='coerce')"
      ],
      "metadata": {
        "id": "pa_Yw2FQgMYR"
      },
      "execution_count": 33,
      "outputs": []
    },
    {
      "cell_type": "code",
      "source": [
        "print(\"Number of duplicate: \", df.duplicated().sum())\n",
        "df.drop_duplicates(inplace=True)"
      ],
      "metadata": {
        "colab": {
          "base_uri": "https://localhost:8080/"
        },
        "id": "-ajDOqdHeIuJ",
        "outputId": "dafc5cc1-39ef-4728-d794-24d615cb18e9"
      },
      "execution_count": 34,
      "outputs": [
        {
          "output_type": "stream",
          "name": "stdout",
          "text": [
            "Number of duplicate:  1202\n"
          ]
        }
      ]
    },
    {
      "cell_type": "code",
      "source": [
        "imputer = SimpleImputer(strategy=\"mean\")\n",
        "df[['mileage(km/ltr/kg)', 'engine', 'max_power', 'seats']] = imputer.fit_transform(df[['mileage(km/ltr/kg)', 'engine', 'max_power', 'seats']])"
      ],
      "metadata": {
        "id": "uCB1JdI5fQ2h"
      },
      "execution_count": 35,
      "outputs": []
    },
    {
      "cell_type": "code",
      "source": [
        "print(df.isnull().sum())\n",
        "print(df.info())"
      ],
      "metadata": {
        "colab": {
          "base_uri": "https://localhost:8080/"
        },
        "id": "GrYTLPstf-WR",
        "outputId": "0a44bff5-449f-4554-b76c-a8316059b21e"
      },
      "execution_count": 37,
      "outputs": [
        {
          "output_type": "stream",
          "name": "stdout",
          "text": [
            "name                  0\n",
            "year                  0\n",
            "selling_price         0\n",
            "km_driven             0\n",
            "fuel                  0\n",
            "seller_type           0\n",
            "transmission          0\n",
            "owner                 0\n",
            "mileage(km/ltr/kg)    0\n",
            "engine                0\n",
            "max_power             0\n",
            "seats                 0\n",
            "dtype: int64\n",
            "<class 'pandas.core.frame.DataFrame'>\n",
            "Index: 6926 entries, 0 to 8125\n",
            "Data columns (total 12 columns):\n",
            " #   Column              Non-Null Count  Dtype  \n",
            "---  ------              --------------  -----  \n",
            " 0   name                6926 non-null   object \n",
            " 1   year                6926 non-null   int64  \n",
            " 2   selling_price       6926 non-null   int64  \n",
            " 3   km_driven           6926 non-null   int64  \n",
            " 4   fuel                6926 non-null   object \n",
            " 5   seller_type         6926 non-null   object \n",
            " 6   transmission        6926 non-null   object \n",
            " 7   owner               6926 non-null   object \n",
            " 8   mileage(km/ltr/kg)  6926 non-null   float64\n",
            " 9   engine              6926 non-null   float64\n",
            " 10  max_power           6926 non-null   float64\n",
            " 11  seats               6926 non-null   float64\n",
            "dtypes: float64(4), int64(3), object(5)\n",
            "memory usage: 703.4+ KB\n",
            "None\n"
          ]
        }
      ]
    }
  ]
}